{
  "cells": [
    {
      "cell_type": "markdown",
      "metadata": {
        "id": "uzq7dzVGtKf3"
      },
      "source": [
        "# Get all items by location and update the Call Number Type\n",
        "\n",
        "This notebook fetches all items in a specified location and then updates the Call Number type field in the Folio Holdings record.\n"
      ]
    },
    {
      "cell_type": "markdown",
      "metadata": {
        "id": "IEqMCq1l1Mio"
      },
      "source": [
        "## Preparations"
      ]
    },
    {
      "cell_type": "markdown",
      "metadata": {
        "id": "UZqGFlEU1Tlc"
      },
      "source": [
        "### Install modules\n",
        "Most modules that we will use are already installed on Google Colab. The below we need to actively install."
      ]
    },
    {
      "cell_type": "code",
      "execution_count": null,
      "metadata": {
        "colab": {
          "base_uri": "https://localhost:8080/"
        },
        "id": "3ieL4TvuJf8T",
        "outputId": "26271915-3348-4fd2-953b-268b71f66fd7"
      },
      "outputs": [],
      "source": [
        "# We will use folioclient to communicate with FOLIO: https://pypi.org/project/folioclient/\n",
        "\n",
        "!pip install folioclient"
      ]
    },
    {
      "cell_type": "code",
      "execution_count": null,
      "metadata": {
        "colab": {
          "base_uri": "https://localhost:8080/"
        },
        "id": "d-PUpoyly20S",
        "outputId": "8213ccf1-19bc-4a4c-a38e-d396221d6743"
      },
      "outputs": [],
      "source": [
        "# We will use xlsxwriter to create Excel files: https://pypi.org/project/XlsxWriter/\n",
        "\n",
        "!pip install xlsxwriter"
      ]
    },
    {
      "cell_type": "markdown",
      "metadata": {
        "id": "L8tBfrAE1lWH"
      },
      "source": [
        "### Import modules\n",
        "Modules that are installed need to be imported, so that we can access them in our code."
      ]
    },
    {
      "cell_type": "code",
      "execution_count": null,
      "metadata": {
        "id": "CjzimUZqDf39"
      },
      "outputs": [],
      "source": [
        "import requests\n",
        "import pandas\n",
        "from pandas import json_normalize\n",
        "from folioclient import FolioClient\n",
        "from getpass import getpass\n",
        "from google.colab import files"
      ]
    },
    {
      "cell_type": "markdown",
      "metadata": {
        "id": "Er-4h3Ql1uHJ"
      },
      "source": [
        "## Connect to FOLIO\n",
        "We log into FOLIO by providing the okapi URL and the tenant ID, as well as the username and password of a FOLIO user. FOLIO will return a token which contains information about which user we are acting as, and what permissions that user has.\n",
        "\n",
        "Note that tokens and passwords are sensitive data which should always be kept secret and secure."
      ]
    },
    {
      "cell_type": "markdown",
      "metadata": {
        "id": "br2a7ABsQmJA"
      },
      "source": [
        "### Provide tenant information and credentials"
      ]
    },
    {
      "cell_type": "code",
      "execution_count": null,
      "metadata": {
        "colab": {
          "base_uri": "https://localhost:8080/"
        },
        "id": "OvJQd36qQrvu",
        "outputId": "cc41d35a-41e6-47e4-b240-44d9bf3246bd"
      },
      "outputs": [],
      "source": [
        "okapi_url = \"YOUR URL HERE\"\n",
        "tenant_id = \"YOUR TENANT ID HERE\"\n",
        "\n",
        "# The getpass module lets us enter credentials at runtime\n",
        "username = getpass('Enter username here: ')\n",
        "password = getpass('Enter password here: ')"
      ]
    },
    {
      "cell_type": "markdown",
      "metadata": {
        "id": "cEEZ5U8uQ-I_"
      },
      "source": [
        "### Log into FOLIO\n",
        "We will use the FolioClient module to make requests to FOLIO."
      ]
    },
    {
      "cell_type": "code",
      "execution_count": null,
      "metadata": {
        "colab": {
          "base_uri": "https://localhost:8080/"
        },
        "id": "NcSqYML0QmZU",
        "outputId": "ab9ffeb4-5e1d-4902-b02c-c20b4782f399"
      },
      "outputs": [],
      "source": [
        "# This will log us into FOLIO, and temporarily store important information like the token in the background\n",
        "try:\n",
        "  folio_client = FolioClient(okapi_url, tenant_id, username, password)\n",
        "  print(f\"Successfully logged into FOLIO as user {username}\")\n",
        "except Exception as e:\n",
        "  print(e)"
      ]
    },
    {
      "cell_type": "markdown",
      "metadata": {
        "id": "9OthLRJ13Vte"
      },
      "source": [
        "## Design the search query\n",
        "This is the part where you specify what data you want to get from FOLIO."
      ]
    },
    {
      "cell_type": "markdown",
      "metadata": {
        "id": "vwfbXE5yqsLH"
      },
      "source": [
        "### Endpoint, object and page size\n",
        "Specify the endpoint you want to search, what objects you expect to get back, and an appropriate page size.\n",
        "\n",
        "Appropriate page size varies by endpoint. For /inventory/items the maximum is around 100, but for /item-storage/items you can get tens of thousands of records at a time."
      ]
    },
    {
      "cell_type": "markdown",
      "metadata": {
        "id": "jwgYZe87ESRS"
      },
      "source": [
        "# Full list of UUIDs in FOLIO Locations and Service Points"
      ]
    },
    {
      "cell_type": "code",
      "execution_count": null,
      "metadata": {
        "id": "IWqL2MWhqrfR"
      },
      "outputs": [],
      "source": [
        "endpoint = \"/holdings-storage/holdings\"\n",
        "record_type = \"holdingsRecords\"\n",
        "page_size = \"1000\"\n",
        "\n",
        "#query = '?query=cql.AllRecords=1 NOT callNumberTypeId=\"\" AND callNumber=\"00*\" AND callNumber=\"09*\"' #Dewey query\n",
        "query = '?query=cql.AllRecords=1 NOT callNumberTypeId=\"\" AND permanentLocationId==\"36c5155d-a5e4-41e9-b195-ab53099c491b\"'\n",
        "#query = '?query=cql.AllRecords=1 NOT callNumberTypeId=\"\" AND permanentLocationId==36c5155d-a5e4-41e9-b195-ab53099c491b AND callNumber==\"TR*\"' #LC query\n",
        "#query = '?query=cql.AllRecords=1 NOT callNumberTypeId=\"\" AND permanentLocationId==d87be268-d156-4219-85be-c848f720f6a6  AND item.materialTypeId==62c70b15-f1fc-41af-abd3-b38d93af' #use an item type to narrow down results\n",
        "#query = '?query=cql.AllRecords=1 NOT callNumberTypeId=\"\" AND callNumber>=\"090*\" AND callNumber<=\"099*\"' #Dewey query\n",
        "#query = '?query=cql.AllRecords=1 AND permanentLocationId==e46ce021-3fc7-43c8-acfc-26dfcb2b2a3e AND callNumber>=\"CD-99999999\"' #oversize cd query using a local call number scheme"
      ]
    },
    {
      "cell_type": "markdown",
      "metadata": {
        "id": "NAeGVqZikqRz"
      },
      "source": [
        "### Select locations to work with\n",
        "One way to do this is to search by code/name, or recurring patterns or prefixes in the code/name."
      ]
    },
    {
      "cell_type": "code",
      "execution_count": null,
      "metadata": {
        "colab": {
          "base_uri": "https://localhost:8080/"
        },
        "id": "zT2matak5zob",
        "outputId": "fc389f4b-027a-4cfe-ae80-cbb40486f4a8"
      },
      "outputs": [],
      "source": [
        "# Get all the locations you have in FOLIO\n",
        "all_locations = pandas.json_normalize(folio_client.locations)[[\"code\", \"name\", \"id\"]]\n",
        "print(f\"Found {len(all_locations)} locations in total.\")"
      ]
    },
    {
      "cell_type": "code",
      "execution_count": null,
      "metadata": {
        "id": "JzACWjib4cLY"
      },
      "outputs": [],
      "source": [
        "# Specify a location code prefix which identifies the locations you want to fetch\n",
        "location_code_prefix = \"YOUR PREFIX HERE\""
      ]
    },
    {
      "cell_type": "code",
      "execution_count": null,
      "metadata": {
        "colab": {
          "base_uri": "https://localhost:8080/"
        },
        "id": "zD1bA7Sok26C",
        "outputId": "66495a51-340d-4797-85f8-925ee3a8a2c5"
      },
      "outputs": [],
      "source": [
        "# Select the locations where the code starts with the code prefix\n",
        "selected_locations = all_locations.loc[all_locations[\"code\"].str.startswith(location_code_prefix)]\n",
        "selected_locations = selected_locations.to_dict(\"records\")\n",
        "print(f\"Found {len(selected_locations)} locations where the code starts with the pattern {location_code_prefix}\")"
      ]
    },
    {
      "cell_type": "markdown",
      "metadata": {
        "id": "6BGqAAxx1Dha"
      },
      "source": [
        "## Get the item data from FOLIO\n",
        "This is where you actually fetch the data from FOLIO.\n",
        "\n",
        "If your question is quite simple, and only requires you to interact with one API, you can do this with one query as in the example below.\n",
        "* What are the titles and barcodes of all the items with this effective location?\n",
        "\n",
        "An example of a more compelx question, which requires queries to multiple APIs, could be\n",
        "* What are the names of all users who have ever borrowed a book from x location?"
      ]
    },
    {
      "cell_type": "markdown",
      "metadata": {
        "id": "pL0HJkKr0lMf"
      },
      "source": [
        "### Fetch all the items which match your query"
      ]
    },
    {
      "cell_type": "code",
      "execution_count": null,
      "metadata": {
        "colab": {
          "base_uri": "https://localhost:8080/"
        },
        "id": "hMSToIrnPOWs",
        "outputId": "c9fcb4c4-591c-4fe6-e9db-63bc616b280a"
      },
      "outputs": [],
      "source": [
        "# Create an empty list. This is the basket where you will store retrieved items.\n",
        "data = []\n",
        "\n",
        "# Fetch all the results from FOLIO, in batches of whatever your page size is\n",
        "for i, record in enumerate(folio_client.folio_get_all(\n",
        "    path = endpoint, key = record_type, query = query, limit = int(page_size))):\n",
        "\n",
        "  # Put the results in the basket\n",
        "  data.append(record)\n",
        "\n",
        "  # Print out progress\n",
        "  page_number = int(i / int(page_size))\n",
        "  if (i > 0) and i % int(page_size) == 0:\n",
        "      print(f\"Fetched {i} records in {page_number} pages.\")\n",
        "\n",
        "print(f\"Done! Fetched {i+1} records in {page_number + 1} pages.\\n\")"
      ]
    },
    {
      "cell_type": "markdown",
      "metadata": {
        "id": "Mmpch6bd08qw"
      },
      "source": [
        "## Work with the data\n",
        "There is a lot you can do here: create different tables based on various critera, analyse the content of the data, rename headers, change the content of the data."
      ]
    },
    {
      "cell_type": "markdown",
      "metadata": {
        "id": "EA7qJLql03G4"
      },
      "source": [
        "### Read the item data into a dataframe and inspect it\n",
        "A dataframe is a table-like structure similar to what you might be used working with in for example Excel."
      ]
    },
    {
      "cell_type": "code",
      "execution_count": null,
      "metadata": {
        "colab": {
          "base_uri": "https://localhost:8080/",
          "height": 1000
        },
        "id": "RnskccTCVSUe",
        "outputId": "f1c5ad22-fb04-4acc-cbeb-0d5f1a8f0980"
      },
      "outputs": [],
      "source": [
        "  # Read the json data into a dataframe\n",
        "  df = pandas.json_normalize(data)\n",
        "\n",
        "  # Inspect the headers in the dataframe\n",
        "  df.info()\n",
        "  df.head()"
      ]
    },
    {
      "cell_type": "markdown",
      "metadata": {
        "id": "qgoyZzwgQq-M"
      },
      "source": [
        "ADD call number type to holding\n"
      ]
    },
    {
      "cell_type": "code",
      "execution_count": null,
      "metadata": {
        "colab": {
          "base_uri": "https://localhost:8080/"
        },
        "id": "1yqiq7KFQqKj",
        "outputId": "fb78d963-0002-4f6c-8da5-cfacb9ed95b4"
      },
      "outputs": [],
      "source": [
        "updated_holdings = []\n",
        "\n",
        "for holdings in data:\n",
        "   holdings[\"callNumberTypeId\"] = \"95467209-6d7b-468b-94df-0f5d7ad2747d\"\n",
        "   updated_holdings.append(holdings)\n",
        "\n",
        "#Call Number Type Cheatsheet\n",
        "#LC - 95467209-6d7b-468b-94df-0f5d7ad2747d\n",
        "#Dewey - 03dd64d0-5626-4ecd-8ece-4531e0069f35\n",
        "#Other Scheme - 6caca63e-5651-4db6-9247-3205156e9699\n",
        "#Title - 5ba6b62e-6858-490a-8102-5b1369873835\n",
        "\n",
        "#print(*updated_holdings[:2000], sep=\"\\n\") the brackets say how many you will update out of the total; remove to do all; 5000 records is too many, 3000 records is ok\n",
        "print(*updated_holdings[:3000], sep=\"\\n\")"
      ]
    },
    {
      "cell_type": "code",
      "execution_count": null,
      "metadata": {
        "colab": {
          "base_uri": "https://localhost:8080/"
        },
        "id": "LlNfqgutXziL",
        "outputId": "84087a31-4f38-4e2a-f294-921c1cb1ed44"
      },
      "outputs": [],
      "source": [
        "test_holdings = updated_holdings[:4000]\n",
        "print(test_holdings)"
      ]
    },
    {
      "cell_type": "code",
      "execution_count": null,
      "metadata": {
        "colab": {
          "base_uri": "https://localhost:8080/"
        },
        "id": "fQyULHJ-UJUQ",
        "outputId": "00632581-dc8c-4a39-dfb0-125ec07ce85d"
      },
      "outputs": [],
      "source": [
        "successfully_updated = 0\n",
        "\n",
        "\n",
        "for i, updated_holding in enumerate(test_holdings):\n",
        "  uuid = updated_holding[\"id\"]\n",
        "  body = updated_holding\n",
        "  response = requests.put(f\"{okapi_url}/holdings-storage/holdings/{uuid}\", json=body, headers=folio_client.okapi_headers)\n",
        "\n",
        "  if response.status_code == 204:\n",
        "      successfully_updated += 1\n",
        "  else:\n",
        "      print(response.status_code, response.text)\n",
        "\n",
        " # Print out progress\n",
        "\n",
        "  if (i > 0) and i % 500 == 0:\n",
        "      print(f\"Completed {i} records.\")\n",
        "\n",
        "print(f\"Successfully updated: {successfully_updated}\")"
      ]
    },
    {
      "cell_type": "code",
      "execution_count": null,
      "metadata": {},
      "outputs": [],
      "source": [
        "#Repeat steps (rerun the cells) from the input query to the end until all holdings records have been updated.\n",
        "#29 February 2024 update: We haven't figured out how to loop the script so it would continue automatically until all the records found matching the query = 0"
      ]
    }
  ],
  "metadata": {
    "colab": {
      "collapsed_sections": [
        "L8tBfrAE1lWH"
      ],
      "provenance": []
    },
    "kernelspec": {
      "display_name": "Python 3",
      "name": "python3"
    },
    "language_info": {
      "name": "python"
    }
  },
  "nbformat": 4,
  "nbformat_minor": 0
}
